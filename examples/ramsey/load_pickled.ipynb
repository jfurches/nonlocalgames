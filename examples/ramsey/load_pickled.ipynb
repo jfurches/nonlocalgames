{
 "cells": [
  {
   "cell_type": "code",
   "execution_count": 1,
   "metadata": {},
   "outputs": [
    {
     "name": "stderr",
     "output_type": "stream",
     "text": [
      "2023-09-15 13:13:11,357\tWARNING deprecation.py:50 -- DeprecationWarning: `DirectStepOptimizer` has been deprecated. This will raise an error in the future!\n"
     ]
    }
   ],
   "source": [
    "import glob\n",
    "import pickle as pkl\n",
    "\n",
    "from run_ramsey import TaskArgs, TaskResult"
   ]
  },
  {
   "cell_type": "code",
   "execution_count": 4,
   "metadata": {},
   "outputs": [],
   "source": [
    "data = []\n",
    "for file in glob.glob('../../data/ramsey_ry/*.pkl'):\n",
    "    with open(file, 'rb') as f:\n",
    "        data.append(pkl.load(f))"
   ]
  },
  {
   "cell_type": "code",
   "execution_count": 8,
   "metadata": {},
   "outputs": [
    {
     "data": {
      "text/html": [
       "<div>\n",
       "<style scoped>\n",
       "    .dataframe tbody tr th:only-of-type {\n",
       "        vertical-align: middle;\n",
       "    }\n",
       "\n",
       "    .dataframe tbody tr th {\n",
       "        vertical-align: top;\n",
       "    }\n",
       "\n",
       "    .dataframe thead th {\n",
       "        text-align: right;\n",
       "    }\n",
       "</style>\n",
       "<table border=\"1\" class=\"dataframe\">\n",
       "  <thead>\n",
       "    <tr style=\"text-align: right;\">\n",
       "      <th></th>\n",
       "      <th>seed</th>\n",
       "      <th>iter</th>\n",
       "      <th>energy</th>\n",
       "      <th>mutual_information</th>\n",
       "      <th>adapt_pool_gradmax</th>\n",
       "    </tr>\n",
       "  </thead>\n",
       "  <tbody>\n",
       "    <tr>\n",
       "      <th>0</th>\n",
       "      <td>159009541</td>\n",
       "      <td>0</td>\n",
       "      <td>-0.124356</td>\n",
       "      <td>2.739415e-15</td>\n",
       "      <td>0.000000</td>\n",
       "    </tr>\n",
       "    <tr>\n",
       "      <th>1</th>\n",
       "      <td>159009541</td>\n",
       "      <td>1</td>\n",
       "      <td>-0.779182</td>\n",
       "      <td>8.003598e-01</td>\n",
       "      <td>0.009518</td>\n",
       "    </tr>\n",
       "    <tr>\n",
       "      <th>2</th>\n",
       "      <td>159009541</td>\n",
       "      <td>2</td>\n",
       "      <td>-0.812465</td>\n",
       "      <td>1.351649e-02</td>\n",
       "      <td>0.007616</td>\n",
       "    </tr>\n",
       "    <tr>\n",
       "      <th>3</th>\n",
       "      <td>159009541</td>\n",
       "      <td>3</td>\n",
       "      <td>-0.812466</td>\n",
       "      <td>1.338059e-02</td>\n",
       "      <td>0.002780</td>\n",
       "    </tr>\n",
       "    <tr>\n",
       "      <th>4</th>\n",
       "      <td>188104747</td>\n",
       "      <td>0</td>\n",
       "      <td>-0.229489</td>\n",
       "      <td>2.739415e-15</td>\n",
       "      <td>0.000000</td>\n",
       "    </tr>\n",
       "    <tr>\n",
       "      <th>5</th>\n",
       "      <td>188104747</td>\n",
       "      <td>1</td>\n",
       "      <td>-0.747847</td>\n",
       "      <td>1.574520e+00</td>\n",
       "      <td>0.009948</td>\n",
       "    </tr>\n",
       "    <tr>\n",
       "      <th>6</th>\n",
       "      <td>188104747</td>\n",
       "      <td>2</td>\n",
       "      <td>-0.875000</td>\n",
       "      <td>2.177179e-08</td>\n",
       "      <td>0.000608</td>\n",
       "    </tr>\n",
       "    <tr>\n",
       "      <th>7</th>\n",
       "      <td>188104747</td>\n",
       "      <td>3</td>\n",
       "      <td>-0.875000</td>\n",
       "      <td>2.594843e-14</td>\n",
       "      <td>0.000006</td>\n",
       "    </tr>\n",
       "  </tbody>\n",
       "</table>\n",
       "</div>"
      ],
      "text/plain": [
       "        seed  iter    energy  mutual_information  adapt_pool_gradmax\n",
       "0  159009541     0 -0.124356        2.739415e-15            0.000000\n",
       "1  159009541     1 -0.779182        8.003598e-01            0.009518\n",
       "2  159009541     2 -0.812465        1.351649e-02            0.007616\n",
       "3  159009541     3 -0.812466        1.338059e-02            0.002780\n",
       "4  188104747     0 -0.229489        2.739415e-15            0.000000\n",
       "5  188104747     1 -0.747847        1.574520e+00            0.009948\n",
       "6  188104747     2 -0.875000        2.177179e-08            0.000608\n",
       "7  188104747     3 -0.875000        2.594843e-14            0.000006"
      ]
     },
     "execution_count": 8,
     "metadata": {},
     "output_type": "execute_result"
    }
   ],
   "source": [
    "import pandas as pd\n",
    "pd.concat(map(lambda it: it.df, data), axis=0, ignore_index=True)"
   ]
  },
  {
   "cell_type": "code",
   "execution_count": null,
   "metadata": {},
   "outputs": [],
   "source": []
  }
 ],
 "metadata": {
  "kernelspec": {
   "display_name": "adapt-gym",
   "language": "python",
   "name": "python3"
  },
  "language_info": {
   "codemirror_mode": {
    "name": "ipython",
    "version": 3
   },
   "file_extension": ".py",
   "mimetype": "text/x-python",
   "name": "python",
   "nbconvert_exporter": "python",
   "pygments_lexer": "ipython3",
   "version": "3.10.9"
  },
  "orig_nbformat": 4
 },
 "nbformat": 4,
 "nbformat_minor": 2
}
