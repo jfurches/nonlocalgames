{
 "cells": [
  {
   "cell_type": "code",
   "execution_count": 1,
   "metadata": {},
   "outputs": [],
   "source": [
    "import numpy as np\n",
    "from qiskit import QuantumCircuit\n",
    "from qiskit.circuit.library import PauliEvolutionGate\n",
    "from qiskit.quantum_info import Pauli, state_fidelity, Statevector"
   ]
  },
  {
   "cell_type": "markdown",
   "metadata": {},
   "source": [
    "Below is the circuit that generates the shared state for our graph coloring strategy."
   ]
  },
  {
   "cell_type": "code",
   "execution_count": 2,
   "metadata": {},
   "outputs": [
    {
     "data": {
      "image/png": "[encoded data removed]",
      "text/plain": [
       "<Figure size 705.552x367.889 with 1 Axes>"
      ]
     },
     "execution_count": 2,
     "metadata": {},
     "output_type": "execute_result"
    }
   ],
   "source": [
    "qc = QuantumCircuit(4)\n",
    "\n",
    "for i in range(4):\n",
    "    qc.h(i)\n",
    "\n",
    "qc.append(PauliEvolutionGate(Pauli('IZIY'), -np.pi/4), [0, 1, 2, 3])\n",
    "qc.append(PauliEvolutionGate(Pauli('YYZY'), +np.pi/4), [0, 1, 2, 3])\n",
    "\n",
    "state = Statevector(qc)\n",
    "qc.draw('mpl')"
   ]
  },
  {
   "cell_type": "markdown",
   "metadata": {},
   "source": [
    "The circuit above generates the state\n",
    "\n",
    "\\begin{equation*}\n",
    "\\ket{\\psi} = \\frac{1}{2}H^{\\otimes 4} \\sum_{c \\in [\\chi_q]} \\ket{cc}.\n",
    "\\end{equation*}\n",
    "\n",
    "If we reorder the bits, grouping by significance (`AaBb` $\\rightarrow$ `ABab`, or $SWAP_{12}$), we obtain\n",
    "\n",
    "\\begin{equation*}\n",
    "\\ket{\\psi} = \\frac{1}{2}H^{\\otimes 4} \\left( \\ket{0000} + \\ket{0011} + \\ket{1100} + \\ket{1111} \\right)\\\\\n",
    "= H^{\\otimes 4} (\\ket{\\phi^+} \\otimes \\ket{\\phi^+})\n",
    "\\end{equation*}\n",
    "\n",
    "This means that Alice and Bob actually share 2 Bell states $\\ket{\\phi^+}$, paired on the bit significance (e.g. $a_0 \\rightarrow b_0$, $a_1 \\rightarrow b_1$). This is followed by $H$ gates on all qubits. We can create this much more compactly as follows."
   ]
  },
  {
   "cell_type": "code",
   "execution_count": 3,
   "metadata": {},
   "outputs": [
    {
     "data": {
      "image/png": "[encoded data removed]",
      "text/plain": [
       "<Figure size 454.719x367.889 with 1 Axes>"
      ]
     },
     "execution_count": 3,
     "metadata": {},
     "output_type": "execute_result"
    }
   ],
   "source": [
    "qc = QuantumCircuit(4)\n",
    "\n",
    "for i in range(2):\n",
    "    qc.h(i)\n",
    "    qc.cx(i, i+2)\n",
    "\n",
    "# qc.barrier()\n",
    "\n",
    "for i in range(4):\n",
    "    qc.h(i)\n",
    "\n",
    "compressed = Statevector(qc)\n",
    "qc.draw('mpl')"
   ]
  },
  {
   "cell_type": "markdown",
   "metadata": {},
   "source": [
    "To verify these are the same, we compute the fidelity of the statevectors and see that they are indeed identical."
   ]
  },
  {
   "cell_type": "code",
   "execution_count": 4,
   "metadata": {},
   "outputs": [
    {
     "data": {
      "text/plain": [
       "0.9999999999999971"
      ]
     },
     "execution_count": 4,
     "metadata": {},
     "output_type": "execute_result"
    }
   ],
   "source": [
    "state_fidelity(state, compressed)"
   ]
  },
  {
   "cell_type": "markdown",
   "metadata": {},
   "source": [
    "This answers a few questions:\n",
    "\n",
    "1. The strategy does not use a GHZ state. This means this is a unique strategy compared to any strategy that uses a GHZ state.\n",
    "\n",
    "2. It is possible to compress our large 4-qubit unitary gates into just 2 CNOT gates. This should dramatically reduce noise."
   ]
  },
  {
   "cell_type": "markdown",
   "metadata": {},
   "source": [
    "Finally, let's create qasm files that use the old strategy parameters but the new state preparation circuit."
   ]
  },
  {
   "cell_type": "code",
   "execution_count": 5,
   "metadata": {},
   "outputs": [],
   "source": [
    "import glob\n",
    "import os\n",
    "import re\n",
    "\n",
    "new_state_prep = \"\"\"\n",
    "qreg a[2];\n",
    "qreg b[2];\n",
    "creg ca[2];\n",
    "creg cb[2];\n",
    "h a[0];\n",
    "h a[1];\n",
    "cx a[0], b[0];\n",
    "cx a[1], b[1];\n",
    "h a[0];\n",
    "h a[1];\n",
    "h b[0];\n",
    "h b[1];\n",
    "\"\"\"\n",
    "\n",
    "new_state_prep = re.sub(r\"^\\s+\", \"\", new_state_prep, flags=re.MULTILINE)"
   ]
  },
  {
   "cell_type": "code",
   "execution_count": 6,
   "metadata": {},
   "outputs": [],
   "source": [
    "old_dir = os.path.join('..', 'circuits', 'original')\n",
    "new_dir = os.path.join('..', 'circuits', 'compressed')\n",
    "\n",
    "for circuit_file in glob.glob(os.path.join(old_dir, '*.qasm')):\n",
    "    with open(circuit_file, 'r', encoding='utf-8') as f:\n",
    "        oldlines = f.readlines()\n",
    "    \n",
    "    # Old circuit state prep is lines 3-18, so we'll just splice together\n",
    "    # what we want to keep\n",
    "    new = ''.join(oldlines[0:2]) + new_state_prep + ''.join(oldlines[18:])\n",
    "\n",
    "    with open(os.path.join(new_dir, os.path.basename(circuit_file)), 'w', encoding='utf-8') as f:\n",
    "        f.write(new)"
   ]
  }
 ],
 "metadata": {
  "kernelspec": {
   "display_name": "adapt-gym",
   "language": "python",
   "name": "python3"
  },
  "language_info": {
   "codemirror_mode": {
    "name": "ipython",
    "version": 3
   },
   "file_extension": ".py",
   "mimetype": "text/x-python",
   "name": "python",
   "nbconvert_exporter": "python",
   "pygments_lexer": "ipython3",
   "version": "3.10.9"
  }
 },
 "nbformat": 4,
 "nbformat_minor": 2
}
