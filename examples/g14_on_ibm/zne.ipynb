{
 "cells": [
  {
   "cell_type": "code",
   "execution_count": 46,
   "metadata": {},
   "outputs": [
    {
     "name": "stdout",
     "output_type": "stream",
     "text": [
      "The autoreload extension is already loaded. To reload it, use:\n",
      "  %reload_ext autoreload\n"
     ]
    }
   ],
   "source": [
    "%load_ext autoreload\n",
    "%autoreload 2"
   ]
  },
  {
   "cell_type": "code",
   "execution_count": 47,
   "metadata": {},
   "outputs": [],
   "source": [
    "import json\n",
    "\n",
    "import numpy as np\n",
    "from qiskit import transpile\n",
    "from qiskit_ibm_runtime import Session, Estimator, QiskitRuntimeService, Options\n",
    "from qiskit.quantum_info import Operator, Statevector\n",
    "\n",
    "from nonlocalgames.hamiltonians import G14\n",
    "from nonlocalgames.circuit import NLGCircuit, load_adapt_ansatz\n",
    "from nonlocalgames.measurement import MeasurementLayer"
   ]
  },
  {
   "cell_type": "code",
   "execution_count": 48,
   "metadata": {},
   "outputs": [],
   "source": [
    "def get_pcc() -> Operator:\n",
    "    proj = 0\n",
    "    for c in range(4):\n",
    "        s = f'{c:02b}'[::-1]\n",
    "        s = s + s\n",
    "        cc = Statevector.from_label(s)\n",
    "        pcc = cc.to_operator()\n",
    "        proj += pcc\n",
    "    \n",
    "    return proj\n",
    "\n",
    "def load_g14_circuit(path: str):\n",
    "    with open(path, 'r', encoding='utf-8') as f:\n",
    "        data = json.load(f)\n",
    "\n",
    "    qubits = 2\n",
    "    players = 2\n",
    "    qc = load_adapt_ansatz(\n",
    "        data['state'],\n",
    "        '++++',\n",
    "        [qubits] * players,\n",
    "        adapt_order=False,\n",
    "        min_theta = 1e-4)\n",
    "\n",
    "    # Don't need to transform phi since qinfo's Ry gate follows the qiskit convention\n",
    "    phi = np.array(data['phi'])\n",
    "\n",
    "    constrained = False\n",
    "    if 'constrained' in path:\n",
    "        constrained = True\n",
    "\n",
    "    if 'metadata' in data:\n",
    "        layer = data['metadata'].get('layer', 'ry')\n",
    "        constrained = data['metadata'].get('constrain_phi', constrained)\n",
    "    else:\n",
    "        layer = 'ry'\n",
    "    \n",
    "    ml = MeasurementLayer.get(layer, players=2, questions=14, qubits=2)\n",
    "    \n",
    "    if constrained:\n",
    "        if phi.ndim == 1:\n",
    "            phi = np.concatenate([phi, phi]).reshape(ml.shape)\n",
    "        else:\n",
    "            phi = np.concatenate([phi, phi])\n",
    "            assert phi.shape == ml.shape\n",
    "    \n",
    "    ml.params = phi\n",
    "\n",
    "    if constrained:\n",
    "        ml.conj(1)\n",
    "\n",
    "    return qc, ml"
   ]
  },
  {
   "cell_type": "code",
   "execution_count": 49,
   "metadata": {},
   "outputs": [
    {
     "data": {
      "text/plain": [
       "(16, 16)"
      ]
     },
     "execution_count": 49,
     "metadata": {},
     "output_type": "execute_result"
    }
   ],
   "source": [
    "qc, ml = load_g14_circuit('../../data/g14_constrained_u3ry/g14_state.json')\n",
    "nlg = NLGCircuit(qc, None, measurement_layer=ml)\n",
    "\n",
    "vertices = [(v, v) for v in range(14)]\n",
    "edges = G14._get_graph().edge_links.tolist()\n",
    "questions = vertices + edges\n",
    "\n",
    "pcc = get_pcc()\n",
    "pcc.dim"
   ]
  },
  {
   "cell_type": "code",
   "execution_count": 58,
   "metadata": {},
   "outputs": [
    {
     "name": "stderr",
     "output_type": "stream",
     "text": [
      "100%|██████████| 88/88 [00:02<00:00, 39.40it/s]\n"
     ]
    },
    {
     "name": "stdout",
     "output_type": "stream",
     "text": [
      "Job: ck0tc04iifjafct7hplg\n"
     ]
    },
    {
     "ename": "KeyboardInterrupt",
     "evalue": "",
     "output_type": "error",
     "traceback": [
      "\u001b[0;31m---------------------------------------------------------------------------\u001b[0m",
      "\u001b[0;31mKeyboardInterrupt\u001b[0m                         Traceback (most recent call last)",
      "Cell \u001b[0;32mIn[58], line 25\u001b[0m\n\u001b[1;32m     23\u001b[0m job \u001b[39m=\u001b[39m estimator\u001b[39m.\u001b[39mrun(circuits\u001b[39m=\u001b[39mcircuits, observables\u001b[39m=\u001b[39mobservables)\n\u001b[1;32m     24\u001b[0m \u001b[39mprint\u001b[39m(\u001b[39m'\u001b[39m\u001b[39mJob:\u001b[39m\u001b[39m'\u001b[39m, job\u001b[39m.\u001b[39mjob_id())\n\u001b[0;32m---> 25\u001b[0m result \u001b[39m=\u001b[39m job\u001b[39m.\u001b[39;49mresult()\n",
      "File \u001b[0;32m~/miniconda3/envs/adapt-gym/lib/python3.10/site-packages/qiskit_ibm_runtime/runtime_job.py:219\u001b[0m, in \u001b[0;36mRuntimeJob.result\u001b[0;34m(self, timeout, decoder)\u001b[0m\n\u001b[1;32m    217\u001b[0m _decoder \u001b[39m=\u001b[39m decoder \u001b[39mor\u001b[39;00m \u001b[39mself\u001b[39m\u001b[39m.\u001b[39m_final_result_decoder\n\u001b[1;32m    218\u001b[0m \u001b[39mif\u001b[39;00m \u001b[39mself\u001b[39m\u001b[39m.\u001b[39m_results \u001b[39mis\u001b[39;00m \u001b[39mNone\u001b[39;00m \u001b[39mor\u001b[39;00m (_decoder \u001b[39m!=\u001b[39m \u001b[39mself\u001b[39m\u001b[39m.\u001b[39m_final_result_decoder):\n\u001b[0;32m--> 219\u001b[0m     \u001b[39mself\u001b[39;49m\u001b[39m.\u001b[39;49mwait_for_final_state(timeout\u001b[39m=\u001b[39;49mtimeout)\n\u001b[1;32m    220\u001b[0m     \u001b[39mif\u001b[39;00m \u001b[39mself\u001b[39m\u001b[39m.\u001b[39m_status \u001b[39m==\u001b[39m JobStatus\u001b[39m.\u001b[39mERROR:\n\u001b[1;32m    221\u001b[0m         error_message \u001b[39m=\u001b[39m \u001b[39mself\u001b[39m\u001b[39m.\u001b[39m_reason \u001b[39mif\u001b[39;00m \u001b[39mself\u001b[39m\u001b[39m.\u001b[39m_reason \u001b[39melse\u001b[39;00m \u001b[39mself\u001b[39m\u001b[39m.\u001b[39m_error_message\n",
      "File \u001b[0;32m~/miniconda3/envs/adapt-gym/lib/python3.10/site-packages/qiskit_ibm_runtime/runtime_job.py:308\u001b[0m, in \u001b[0;36mRuntimeJob.wait_for_final_state\u001b[0;34m(self, timeout)\u001b[0m\n\u001b[1;32m    306\u001b[0m     \u001b[39mself\u001b[39m\u001b[39m.\u001b[39m_ws_client_future \u001b[39m=\u001b[39m \u001b[39mself\u001b[39m\u001b[39m.\u001b[39m_executor\u001b[39m.\u001b[39msubmit(\u001b[39mself\u001b[39m\u001b[39m.\u001b[39m_start_websocket_client)\n\u001b[1;32m    307\u001b[0m \u001b[39mif\u001b[39;00m \u001b[39mself\u001b[39m\u001b[39m.\u001b[39m_is_streaming():\n\u001b[0;32m--> 308\u001b[0m     \u001b[39mself\u001b[39;49m\u001b[39m.\u001b[39;49m_ws_client_future\u001b[39m.\u001b[39;49mresult(timeout)\n\u001b[1;32m    309\u001b[0m \u001b[39m# poll for status after stream has closed until status is final\u001b[39;00m\n\u001b[1;32m    310\u001b[0m \u001b[39m# because status doesn't become final as soon as stream closes\u001b[39;00m\n\u001b[1;32m    311\u001b[0m status \u001b[39m=\u001b[39m \u001b[39mself\u001b[39m\u001b[39m.\u001b[39mstatus()\n",
      "File \u001b[0;32m~/miniconda3/envs/adapt-gym/lib/python3.10/concurrent/futures/_base.py:453\u001b[0m, in \u001b[0;36mFuture.result\u001b[0;34m(self, timeout)\u001b[0m\n\u001b[1;32m    450\u001b[0m \u001b[39melif\u001b[39;00m \u001b[39mself\u001b[39m\u001b[39m.\u001b[39m_state \u001b[39m==\u001b[39m FINISHED:\n\u001b[1;32m    451\u001b[0m     \u001b[39mreturn\u001b[39;00m \u001b[39mself\u001b[39m\u001b[39m.\u001b[39m__get_result()\n\u001b[0;32m--> 453\u001b[0m \u001b[39mself\u001b[39;49m\u001b[39m.\u001b[39;49m_condition\u001b[39m.\u001b[39;49mwait(timeout)\n\u001b[1;32m    455\u001b[0m \u001b[39mif\u001b[39;00m \u001b[39mself\u001b[39m\u001b[39m.\u001b[39m_state \u001b[39min\u001b[39;00m [CANCELLED, CANCELLED_AND_NOTIFIED]:\n\u001b[1;32m    456\u001b[0m     \u001b[39mraise\u001b[39;00m CancelledError()\n",
      "File \u001b[0;32m~/miniconda3/envs/adapt-gym/lib/python3.10/threading.py:320\u001b[0m, in \u001b[0;36mCondition.wait\u001b[0;34m(self, timeout)\u001b[0m\n\u001b[1;32m    318\u001b[0m \u001b[39mtry\u001b[39;00m:    \u001b[39m# restore state no matter what (e.g., KeyboardInterrupt)\u001b[39;00m\n\u001b[1;32m    319\u001b[0m     \u001b[39mif\u001b[39;00m timeout \u001b[39mis\u001b[39;00m \u001b[39mNone\u001b[39;00m:\n\u001b[0;32m--> 320\u001b[0m         waiter\u001b[39m.\u001b[39;49macquire()\n\u001b[1;32m    321\u001b[0m         gotit \u001b[39m=\u001b[39m \u001b[39mTrue\u001b[39;00m\n\u001b[1;32m    322\u001b[0m     \u001b[39melse\u001b[39;00m:\n",
      "\u001b[0;31mKeyboardInterrupt\u001b[0m: "
     ]
    }
   ],
   "source": [
    "import tqdm\n",
    "\n",
    "options = Options()\n",
    "options.execution.shots = 1024\n",
    "options.optimization_level = 3\n",
    "options.resilience_level = 2  # ZNE\n",
    "options.resilience.noise_factors = [1, 2, 3, 4, 5]\n",
    "# options.resilience.noise_amplifier = \"LocalFoldingAmplifier\"\n",
    "\n",
    "dev = 'ibm_auckland'\n",
    "service = QiskitRuntimeService(name='full')\n",
    "backend = service.get_backend(dev)\n",
    "with Session(service=service, backend=backend) as session:\n",
    "    nlg.backend = backend\n",
    "    estimator = Estimator(session=session, options=options)\n",
    "    circuits = []\n",
    "    for q in tqdm.tqdm(questions):\n",
    "        circuit = nlg._prepare_question(q)\n",
    "        circuit.remove_final_measurements()\n",
    "        circuits.append(circuit)\n",
    "    observables = [pcc] * len(circuits)\n",
    "\n",
    "    job = estimator.run(circuits=circuits, observables=observables)\n",
    "    print('Job:', job.job_id())\n",
    "    result = job.result()"
   ]
  },
  {
   "cell_type": "code",
   "execution_count": 57,
   "metadata": {},
   "outputs": [],
   "source": [
    "basepath = 'zne_results_optim{optim}_zne{zne}_{dev}'.format(\n",
    "            optim=options.optimization_level,\n",
    "            zne=options.resilience_level,\n",
    "            dev=dev\n",
    "        )\n",
    "metadata = result.metadata\n",
    "values = result.values.tolist()\n",
    "for m, q in zip(metadata, questions):\n",
    "    m['question'] = q\n",
    "with open(f'{basepath}.json', 'w', encoding='utf-8') as f:\n",
    "    json.dump({\n",
    "        'metadata': result.metadata,\n",
    "        'values': result.values.tolist()\n",
    "    }, f)"
   ]
  },
  {
   "cell_type": "code",
   "execution_count": 69,
   "metadata": {},
   "outputs": [
    {
     "data": {
      "text/html": [
       "<div>\n",
       "<style scoped>\n",
       "    .dataframe tbody tr th:only-of-type {\n",
       "        vertical-align: middle;\n",
       "    }\n",
       "\n",
       "    .dataframe tbody tr th {\n",
       "        vertical-align: top;\n",
       "    }\n",
       "\n",
       "    .dataframe thead th {\n",
       "        text-align: right;\n",
       "    }\n",
       "</style>\n",
       "<table border=\"1\" class=\"dataframe\">\n",
       "  <thead>\n",
       "    <tr style=\"text-align: right;\">\n",
       "      <th></th>\n",
       "      <th>va</th>\n",
       "      <th>vb</th>\n",
       "      <th>noise_factor</th>\n",
       "      <th>obs_value</th>\n",
       "      <th>obs_var</th>\n",
       "      <th>extrapolated_value</th>\n",
       "    </tr>\n",
       "  </thead>\n",
       "  <tbody>\n",
       "    <tr>\n",
       "      <th>0</th>\n",
       "      <td>0</td>\n",
       "      <td>0</td>\n",
       "      <td>1</td>\n",
       "      <td>1.0</td>\n",
       "      <td>0.0</td>\n",
       "      <td>1.0</td>\n",
       "    </tr>\n",
       "    <tr>\n",
       "      <th>1</th>\n",
       "      <td>0</td>\n",
       "      <td>0</td>\n",
       "      <td>2</td>\n",
       "      <td>1.0</td>\n",
       "      <td>0.0</td>\n",
       "      <td>1.0</td>\n",
       "    </tr>\n",
       "    <tr>\n",
       "      <th>2</th>\n",
       "      <td>0</td>\n",
       "      <td>0</td>\n",
       "      <td>3</td>\n",
       "      <td>1.0</td>\n",
       "      <td>0.0</td>\n",
       "      <td>1.0</td>\n",
       "    </tr>\n",
       "    <tr>\n",
       "      <th>3</th>\n",
       "      <td>0</td>\n",
       "      <td>0</td>\n",
       "      <td>4</td>\n",
       "      <td>1.0</td>\n",
       "      <td>0.0</td>\n",
       "      <td>1.0</td>\n",
       "    </tr>\n",
       "    <tr>\n",
       "      <th>4</th>\n",
       "      <td>0</td>\n",
       "      <td>0</td>\n",
       "      <td>5</td>\n",
       "      <td>1.0</td>\n",
       "      <td>0.0</td>\n",
       "      <td>1.0</td>\n",
       "    </tr>\n",
       "    <tr>\n",
       "      <th>...</th>\n",
       "      <td>...</td>\n",
       "      <td>...</td>\n",
       "      <td>...</td>\n",
       "      <td>...</td>\n",
       "      <td>...</td>\n",
       "      <td>...</td>\n",
       "    </tr>\n",
       "    <tr>\n",
       "      <th>65</th>\n",
       "      <td>13</td>\n",
       "      <td>13</td>\n",
       "      <td>1</td>\n",
       "      <td>1.0</td>\n",
       "      <td>0.0</td>\n",
       "      <td>1.0</td>\n",
       "    </tr>\n",
       "    <tr>\n",
       "      <th>66</th>\n",
       "      <td>13</td>\n",
       "      <td>13</td>\n",
       "      <td>2</td>\n",
       "      <td>1.0</td>\n",
       "      <td>0.0</td>\n",
       "      <td>1.0</td>\n",
       "    </tr>\n",
       "    <tr>\n",
       "      <th>67</th>\n",
       "      <td>13</td>\n",
       "      <td>13</td>\n",
       "      <td>3</td>\n",
       "      <td>1.0</td>\n",
       "      <td>0.0</td>\n",
       "      <td>1.0</td>\n",
       "    </tr>\n",
       "    <tr>\n",
       "      <th>68</th>\n",
       "      <td>13</td>\n",
       "      <td>13</td>\n",
       "      <td>4</td>\n",
       "      <td>1.0</td>\n",
       "      <td>0.0</td>\n",
       "      <td>1.0</td>\n",
       "    </tr>\n",
       "    <tr>\n",
       "      <th>69</th>\n",
       "      <td>13</td>\n",
       "      <td>13</td>\n",
       "      <td>5</td>\n",
       "      <td>1.0</td>\n",
       "      <td>0.0</td>\n",
       "      <td>1.0</td>\n",
       "    </tr>\n",
       "  </tbody>\n",
       "</table>\n",
       "<p>440 rows × 6 columns</p>\n",
       "</div>"
      ],
      "text/plain": [
       "    va  vb  noise_factor  obs_value  obs_var  extrapolated_value\n",
       "0    0   0             1        1.0      0.0                 1.0\n",
       "1    0   0             2        1.0      0.0                 1.0\n",
       "2    0   0             3        1.0      0.0                 1.0\n",
       "3    0   0             4        1.0      0.0                 1.0\n",
       "4    0   0             5        1.0      0.0                 1.0\n",
       "..  ..  ..           ...        ...      ...                 ...\n",
       "65  13  13             1        1.0      0.0                 1.0\n",
       "66  13  13             2        1.0      0.0                 1.0\n",
       "67  13  13             3        1.0      0.0                 1.0\n",
       "68  13  13             4        1.0      0.0                 1.0\n",
       "69  13  13             5        1.0      0.0                 1.0\n",
       "\n",
       "[440 rows x 6 columns]"
      ]
     },
     "execution_count": 69,
     "metadata": {},
     "output_type": "execute_result"
    }
   ],
   "source": [
    "import pandas as pd\n",
    "\n",
    "records = []\n",
    "\n",
    "for m, zne_value in zip(metadata, values):\n",
    "    zne_data = m['zne']['noise_amplification']\n",
    "    for noise_level, obs_value, obs_var in zip(\n",
    "        zne_data['noise_factors'],\n",
    "        zne_data['values'],\n",
    "        zne_data['variance']):\n",
    "\n",
    "        records.append({\n",
    "            'va': m['question'][0],\n",
    "            'vb': m['question'][1],\n",
    "            'noise_factor': noise_level,\n",
    "            'obs_value': obs_value,\n",
    "            'obs_var': obs_var,\n",
    "            'extrapolated_value': zne_value\n",
    "        })\n",
    "\n",
    "df = pd.DataFrame.from_records(records)\n",
    "df.sort_values(['va', 'vb'], inplace=True)\n",
    "df.to_csv(f'{basepath}.csv', index=False)\n",
    "df"
   ]
  },
  {
   "cell_type": "markdown",
   "metadata": {},
   "source": [
    "## Postprocessing"
   ]
  },
  {
   "cell_type": "code",
   "execution_count": 72,
   "metadata": {},
   "outputs": [
    {
     "data": {
      "image/png": "[encoded data removed]",
      "text/plain": [
       "<Figure size 640x480 with 1 Axes>"
      ]
     },
     "metadata": {},
     "output_type": "display_data"
    }
   ],
   "source": [
    "import numpy as np\n",
    "import pandas as pd\n",
    "import matplotlib.pyplot as plt\n",
    "import seaborn as sns\n",
    "\n",
    "def process(df):\n",
    "    df['qtype'] = np.where(df.va == df.vb, 'Vertex', 'Edge')\n",
    "    df['post_obs_value'] = np.where(\n",
    "        df.qtype == 'Edge',\n",
    "        1 - df.obs_value,\n",
    "        df.obs_value\n",
    "    )\n",
    "    df['post_extrapolated_value'] = np.where(\n",
    "        df.qtype == 'Edge',\n",
    "        1 - df.extrapolated_value,\n",
    "        df.extrapolated_value\n",
    "    )\n",
    "\n",
    "    return df\n",
    "\n",
    "dev = 'ibm_hanoi'\n",
    "df = pd.read_csv(f'zne_results_optim3_zne2_{dev}.csv')\n",
    "\n",
    "df = process(df)\n",
    "sns.lineplot(\n",
    "    data=df,\n",
    "    x='noise_factor',\n",
    "    y='obs_value',\n",
    "    hue='qtype',\n",
    "    marker='o'\n",
    ")\n",
    "plt.xlabel('Noise Factor')\n",
    "plt.xticks(ticks=[1, 2, 3, 4])\n",
    "plt.ylabel(r'$\\langle P_{cc} \\rangle$')\n",
    "plt.show()"
   ]
  },
  {
   "cell_type": "markdown",
   "metadata": {},
   "source": [
    "We get a much different result using the `simulator_statevector` device.."
   ]
  },
  {
   "cell_type": "code",
   "execution_count": 73,
   "metadata": {},
   "outputs": [
    {
     "data": {
      "image/png": "[encoded data removed]",
      "text/plain": [
       "<Figure size 640x480 with 1 Axes>"
      ]
     },
     "metadata": {},
     "output_type": "display_data"
    }
   ],
   "source": [
    "dev = 'simulator_statevector'\n",
    "df = pd.read_csv(f'zne_results_optim3_zne2_{dev}.csv')\n",
    "\n",
    "df = process(df)\n",
    "sns.lineplot(\n",
    "    data=df,\n",
    "    x='noise_factor',\n",
    "    y='obs_value',\n",
    "    hue='qtype',\n",
    "    marker='o'\n",
    ")\n",
    "plt.xlabel('Noise Factor')\n",
    "plt.xticks(ticks=[1, 2, 3, 4])\n",
    "plt.ylabel(r'$\\langle P_{cc} \\rangle$')\n",
    "plt.show()"
   ]
  },
  {
   "cell_type": "code",
   "execution_count": null,
   "metadata": {},
   "outputs": [],
   "source": []
  }
 ],
 "metadata": {
  "kernelspec": {
   "display_name": "adapt-gym",
   "language": "python",
   "name": "python3"
  },
  "language_info": {
   "codemirror_mode": {
    "name": "ipython",
    "version": 3
   },
   "file_extension": ".py",
   "mimetype": "text/x-python",
   "name": "python",
   "nbconvert_exporter": "python",
   "pygments_lexer": "ipython3",
   "version": "3.10.9"
  },
  "orig_nbformat": 4
 },
 "nbformat": 4,
 "nbformat_minor": 2
}
