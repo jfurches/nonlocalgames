{
 "cells": [
  {
   "cell_type": "code",
   "execution_count": 1,
   "metadata": {},
   "outputs": [],
   "source": [
    "%load_ext autoreload\n",
    "%autoreload 2"
   ]
  },
  {
   "cell_type": "code",
   "execution_count": 2,
   "metadata": {},
   "outputs": [
    {
     "name": "stderr",
     "output_type": "stream",
     "text": [
      "2023-09-15 13:34:52,823\tWARNING deprecation.py:50 -- DeprecationWarning: `DirectStepOptimizer` has been deprecated. This will raise an error in the future!\n"
     ]
    }
   ],
   "source": [
    "import json\n",
    "\n",
    "import numpy as np\n",
    "from qiskit import transpile\n",
    "from qiskit_ibm_runtime import Session, Estimator, QiskitRuntimeService, Options\n",
    "from qiskit.quantum_info import Operator, Statevector\n",
    "\n",
    "from nonlocalgames.hamiltonians import G14\n",
    "from nonlocalgames.circuit import NLGCircuit, load_adapt_ansatz\n",
    "from nonlocalgames.measurement import MeasurementLayer"
   ]
  },
  {
   "cell_type": "code",
   "execution_count": 3,
   "metadata": {},
   "outputs": [],
   "source": [
    "def get_pcc() -> Operator:\n",
    "    proj = 0\n",
    "    for c in range(4):\n",
    "        s = f'{c:02b}'[::-1]\n",
    "        s = s + s\n",
    "        cc = Statevector.from_label(s)\n",
    "        pcc = cc.to_operator()\n",
    "        proj += pcc\n",
    "    \n",
    "    return proj\n",
    "\n",
    "def load_g14_circuit(path: str):\n",
    "    with open(path, 'r', encoding='utf-8') as f:\n",
    "        data = json.load(f)\n",
    "\n",
    "    qubits = 2\n",
    "    players = 2\n",
    "    qc = load_adapt_ansatz(\n",
    "        data['state'],\n",
    "        '++++',\n",
    "        [qubits] * players,\n",
    "        adapt_order=False,\n",
    "        min_theta = 1e-4)\n",
    "\n",
    "    # Don't need to transform phi since qinfo's Ry gate follows the qiskit convention\n",
    "    phi = np.array(data['phi'])\n",
    "\n",
    "    constrained = False\n",
    "    if 'constrained' in path:\n",
    "        constrained = True\n",
    "\n",
    "    if 'metadata' in data:\n",
    "        layer = data['metadata'].get('layer', 'ry')\n",
    "        constrained = data['metadata'].get('constrain_phi', constrained)\n",
    "    else:\n",
    "        layer = 'ry'\n",
    "    \n",
    "    ml = MeasurementLayer.get(layer, players=2, questions=14, qubits=2)\n",
    "    \n",
    "    if constrained:\n",
    "        if phi.ndim == 1:\n",
    "            phi = np.concatenate([phi, phi]).reshape(ml.shape)\n",
    "        else:\n",
    "            phi = np.concatenate([phi, phi])\n",
    "            assert phi.shape == ml.shape\n",
    "    \n",
    "    ml.params = phi\n",
    "\n",
    "    if constrained:\n",
    "        ml.conj(1)\n",
    "\n",
    "    return qc, ml"
   ]
  },
  {
   "cell_type": "code",
   "execution_count": 4,
   "metadata": {},
   "outputs": [
    {
     "data": {
      "text/plain": [
       "(16, 16)"
      ]
     },
     "execution_count": 4,
     "metadata": {},
     "output_type": "execute_result"
    }
   ],
   "source": [
    "qc, ml = load_g14_circuit('../../data/g14_constrained_u3ry/g14_state.json')\n",
    "nlg = NLGCircuit(qc, None, measurement_layer=ml)\n",
    "\n",
    "vertices = [(v, v) for v in range(14)]\n",
    "edges = G14._get_graph().edge_links.tolist()\n",
    "questions = vertices + edges\n",
    "\n",
    "pcc = get_pcc()\n",
    "pcc.dim"
   ]
  },
  {
   "cell_type": "code",
   "execution_count": 5,
   "metadata": {},
   "outputs": [],
   "source": [
    "import tqdm\n",
    "\n",
    "options = Options()\n",
    "options.execution.shots = 1024\n",
    "options.optimization_level = 3\n",
    "options.resilience_level = 2  # ZNE\n",
    "options.resilience.noise_factors = [1, 2, 3, 4, 5]\n",
    "# options.resilience.noise_amplifier = \"LocalFoldingAmplifier\"\n",
    "\n",
    "dev = 'ibm_hanoi'\n",
    "service = QiskitRuntimeService(name='full')\n",
    "backend = service.get_backend(dev)"
   ]
  },
  {
   "cell_type": "code",
   "execution_count": null,
   "metadata": {},
   "outputs": [],
   "source": [
    "with Session(service=service, backend=backend) as session:\n",
    "    nlg.backend = backend\n",
    "    estimator = Estimator(session=session, options=options)\n",
    "    circuits = []\n",
    "    for q in tqdm.tqdm(questions):\n",
    "        circuit = nlg._prepare_question(q)\n",
    "        circuit.remove_final_measurements()\n",
    "        print(circuit.metadata)\n",
    "        circuits.append(circuit)\n",
    "    \n",
    "    observables = [pcc] * len(circuits)\n",
    "\n",
    "    job = estimator.run(circuits=circuits, observables=observables)\n",
    "    print('Job:', job.job_id())\n",
    "    result = job.result()"
   ]
  },
  {
   "cell_type": "code",
   "execution_count": 7,
   "metadata": {},
   "outputs": [],
   "source": [
    "from qiskit_ibm_runtime import QiskitRuntimeService\n",
    "service = QiskitRuntimeService(name='full')\n",
    "job = service.job('ck0tc04iifjafct7hplg')\n",
    "result = job.result()\n",
    "backend = job.backend()\n",
    "dev = backend.name"
   ]
  },
  {
   "cell_type": "code",
   "execution_count": 8,
   "metadata": {},
   "outputs": [],
   "source": [
    "basepath = 'zne_results_optim{optim}_zne{zne}_{dev}'.format(\n",
    "            optim=options.optimization_level,\n",
    "            zne=options.resilience_level,\n",
    "            dev=dev\n",
    "        )\n",
    "metadata = result.metadata\n",
    "values = result.values.tolist()\n",
    "for m, q in zip(metadata, questions):\n",
    "    m['question'] = q\n",
    "with open(f'{basepath}.json', 'w', encoding='utf-8') as f:\n",
    "    json.dump({\n",
    "        'metadata': result.metadata,\n",
    "        'values': result.values.tolist()\n",
    "    }, f)"
   ]
  },
  {
   "cell_type": "code",
   "execution_count": 9,
   "metadata": {},
   "outputs": [
    {
     "data": {
      "text/html": [
       "<div>\n",
       "<style scoped>\n",
       "    .dataframe tbody tr th:only-of-type {\n",
       "        vertical-align: middle;\n",
       "    }\n",
       "\n",
       "    .dataframe tbody tr th {\n",
       "        vertical-align: top;\n",
       "    }\n",
       "\n",
       "    .dataframe thead th {\n",
       "        text-align: right;\n",
       "    }\n",
       "</style>\n",
       "<table border=\"1\" class=\"dataframe\">\n",
       "  <thead>\n",
       "    <tr style=\"text-align: right;\">\n",
       "      <th></th>\n",
       "      <th>va</th>\n",
       "      <th>vb</th>\n",
       "      <th>noise_factor</th>\n",
       "      <th>obs_value</th>\n",
       "      <th>obs_var</th>\n",
       "      <th>extrapolated_value</th>\n",
       "    </tr>\n",
       "  </thead>\n",
       "  <tbody>\n",
       "    <tr>\n",
       "      <th>0</th>\n",
       "      <td>0</td>\n",
       "      <td>0</td>\n",
       "      <td>1</td>\n",
       "      <td>0.873047</td>\n",
       "      <td>0.056342</td>\n",
       "      <td>0.942871</td>\n",
       "    </tr>\n",
       "    <tr>\n",
       "      <th>1</th>\n",
       "      <td>0</td>\n",
       "      <td>0</td>\n",
       "      <td>2</td>\n",
       "      <td>0.507812</td>\n",
       "      <td>0.127103</td>\n",
       "      <td>0.942871</td>\n",
       "    </tr>\n",
       "    <tr>\n",
       "      <th>2</th>\n",
       "      <td>0</td>\n",
       "      <td>0</td>\n",
       "      <td>3</td>\n",
       "      <td>0.976562</td>\n",
       "      <td>0.011508</td>\n",
       "      <td>0.942871</td>\n",
       "    </tr>\n",
       "    <tr>\n",
       "      <th>3</th>\n",
       "      <td>0</td>\n",
       "      <td>0</td>\n",
       "      <td>4</td>\n",
       "      <td>0.981445</td>\n",
       "      <td>0.009145</td>\n",
       "      <td>0.942871</td>\n",
       "    </tr>\n",
       "    <tr>\n",
       "      <th>4</th>\n",
       "      <td>0</td>\n",
       "      <td>0</td>\n",
       "      <td>5</td>\n",
       "      <td>0.266602</td>\n",
       "      <td>0.186895</td>\n",
       "      <td>0.942871</td>\n",
       "    </tr>\n",
       "    <tr>\n",
       "      <th>...</th>\n",
       "      <td>...</td>\n",
       "      <td>...</td>\n",
       "      <td>...</td>\n",
       "      <td>...</td>\n",
       "      <td>...</td>\n",
       "      <td>...</td>\n",
       "    </tr>\n",
       "    <tr>\n",
       "      <th>65</th>\n",
       "      <td>13</td>\n",
       "      <td>13</td>\n",
       "      <td>1</td>\n",
       "      <td>0.951172</td>\n",
       "      <td>0.023511</td>\n",
       "      <td>0.447754</td>\n",
       "    </tr>\n",
       "    <tr>\n",
       "      <th>66</th>\n",
       "      <td>13</td>\n",
       "      <td>13</td>\n",
       "      <td>2</td>\n",
       "      <td>0.257812</td>\n",
       "      <td>0.187456</td>\n",
       "      <td>0.447754</td>\n",
       "    </tr>\n",
       "    <tr>\n",
       "      <th>67</th>\n",
       "      <td>13</td>\n",
       "      <td>13</td>\n",
       "      <td>3</td>\n",
       "      <td>0.222656</td>\n",
       "      <td>0.187225</td>\n",
       "      <td>0.447754</td>\n",
       "    </tr>\n",
       "    <tr>\n",
       "      <th>68</th>\n",
       "      <td>13</td>\n",
       "      <td>13</td>\n",
       "      <td>4</td>\n",
       "      <td>0.971680</td>\n",
       "      <td>0.013865</td>\n",
       "      <td>0.447754</td>\n",
       "    </tr>\n",
       "    <tr>\n",
       "      <th>69</th>\n",
       "      <td>13</td>\n",
       "      <td>13</td>\n",
       "      <td>5</td>\n",
       "      <td>0.973633</td>\n",
       "      <td>0.012917</td>\n",
       "      <td>0.447754</td>\n",
       "    </tr>\n",
       "  </tbody>\n",
       "</table>\n",
       "<p>440 rows × 6 columns</p>\n",
       "</div>"
      ],
      "text/plain": [
       "    va  vb  noise_factor  obs_value   obs_var  extrapolated_value\n",
       "0    0   0             1   0.873047  0.056342            0.942871\n",
       "1    0   0             2   0.507812  0.127103            0.942871\n",
       "2    0   0             3   0.976562  0.011508            0.942871\n",
       "3    0   0             4   0.981445  0.009145            0.942871\n",
       "4    0   0             5   0.266602  0.186895            0.942871\n",
       "..  ..  ..           ...        ...       ...                 ...\n",
       "65  13  13             1   0.951172  0.023511            0.447754\n",
       "66  13  13             2   0.257812  0.187456            0.447754\n",
       "67  13  13             3   0.222656  0.187225            0.447754\n",
       "68  13  13             4   0.971680  0.013865            0.447754\n",
       "69  13  13             5   0.973633  0.012917            0.447754\n",
       "\n",
       "[440 rows x 6 columns]"
      ]
     },
     "execution_count": 9,
     "metadata": {},
     "output_type": "execute_result"
    }
   ],
   "source": [
    "import pandas as pd\n",
    "\n",
    "records = []\n",
    "\n",
    "for m, zne_value in zip(metadata, values):\n",
    "    zne_data = m['zne']['noise_amplification']\n",
    "    for noise_level, obs_value, obs_var in zip(\n",
    "        zne_data['noise_factors'],\n",
    "        zne_data['values'],\n",
    "        zne_data['variance']):\n",
    "\n",
    "        records.append({\n",
    "            'va': m['question'][0],\n",
    "            'vb': m['question'][1],\n",
    "            'noise_factor': noise_level,\n",
    "            'obs_value': obs_value,\n",
    "            'obs_var': obs_var,\n",
    "            'extrapolated_value': zne_value\n",
    "        })\n",
    "\n",
    "df = pd.DataFrame.from_records(records)\n",
    "df.sort_values(['va', 'vb'], inplace=True)\n",
    "df.to_csv(f'{basepath}.csv', index=False)\n",
    "df"
   ]
  },
  {
   "cell_type": "markdown",
   "metadata": {},
   "source": [
    "## Postprocessing\n",
    "\n",
    "Results for `ibm_hanoi`"
   ]
  },
  {
   "cell_type": "code",
   "execution_count": 27,
   "metadata": {},
   "outputs": [
    {
     "data": {
      "image/png": "[encoded data removed]",
      "text/plain": [
       "<Figure size 640x480 with 1 Axes>"
      ]
     },
     "metadata": {},
     "output_type": "display_data"
    }
   ],
   "source": [
    "import numpy as np\n",
    "import pandas as pd\n",
    "import matplotlib.pyplot as plt\n",
    "import seaborn as sns\n",
    "\n",
    "def process(df):\n",
    "    df['qtype'] = np.where(df.va == df.vb, 'Vertex', 'Edge')\n",
    "    df['post_obs_value'] = np.where(\n",
    "        df.qtype == 'Edge',\n",
    "        1 - df.obs_value,\n",
    "        df.obs_value\n",
    "    )\n",
    "    df['post_extrapolated_value'] = np.where(\n",
    "        df.qtype == 'Edge',\n",
    "        1 - df.extrapolated_value,\n",
    "        df.extrapolated_value\n",
    "    )\n",
    "\n",
    "    return df\n",
    "\n",
    "dev = 'ibm_hanoi'\n",
    "df = pd.read_csv(f'zne_results_optim3_zne2_{dev}.csv')\n",
    "df = process(df)\n",
    "fig = plt.figure()\n",
    "ax = fig.gca()\n",
    "plt.xlim(-0.2, 5.2)\n",
    "for i, qtype in enumerate(df.qtype.unique()):\n",
    "    sns.regplot(\n",
    "        ax=ax,\n",
    "        data=df.loc[df.qtype == qtype].groupby('noise_factor').mean(numeric_only=True).reset_index(),\n",
    "        x='noise_factor',\n",
    "        y='obs_value',\n",
    "        color=f'C{i}',\n",
    "        label=qtype,\n",
    "        marker='o',\n",
    "        truncate=False\n",
    "    )\n",
    "plt.xlabel('Noise Factor')\n",
    "plt.xticks(ticks=[0, 1, 2, 3, 4, 5])\n",
    "plt.ylabel(r'$\\langle P_{cc} \\rangle$')\n",
    "plt.legend()\n",
    "plt.show()"
   ]
  },
  {
   "cell_type": "markdown",
   "metadata": {},
   "source": [
    "We get a much different result using the `simulator_statevector` device.."
   ]
  },
  {
   "cell_type": "code",
   "execution_count": 15,
   "metadata": {},
   "outputs": [
    {
     "data": {
      "image/png": "[encoded data removed]",
      "text/plain": [
       "<Figure size 640x480 with 1 Axes>"
      ]
     },
     "metadata": {},
     "output_type": "display_data"
    }
   ],
   "source": [
    "dev = 'simulator_statevector'\n",
    "df = pd.read_csv(f'zne_results_optim3_zne2_{dev}.csv')\n",
    "\n",
    "df = process(df)\n",
    "sns.lineplot(\n",
    "    data=df,\n",
    "    x='noise_factor',\n",
    "    y='obs_value',\n",
    "    hue='qtype',\n",
    "    marker='o'\n",
    ")\n",
    "plt.xlabel('Noise Factor')\n",
    "plt.xticks(ticks=[1, 2, 3, 4, 5])\n",
    "plt.ylabel(r'$\\langle P_{cc} \\rangle$')\n",
    "plt.show()"
   ]
  },
  {
   "cell_type": "markdown",
   "metadata": {},
   "source": [
    "Results for `ibm_auckland`"
   ]
  },
  {
   "cell_type": "code",
   "execution_count": 10,
   "metadata": {},
   "outputs": [
    {
     "data": {
      "image/png": "[encoded data removed]",
      "text/plain": [
       "<Figure size 640x480 with 1 Axes>"
      ]
     },
     "metadata": {},
     "output_type": "display_data"
    }
   ],
   "source": [
    "import numpy as np\n",
    "import pandas as pd\n",
    "import matplotlib.pyplot as plt\n",
    "import seaborn as sns\n",
    "\n",
    "def process(df):\n",
    "    df['qtype'] = np.where(df.va == df.vb, 'Vertex', 'Edge')\n",
    "    df['post_obs_value'] = np.where(\n",
    "        df.qtype == 'Edge',\n",
    "        1 - df.obs_value,\n",
    "        df.obs_value\n",
    "    )\n",
    "    df['post_extrapolated_value'] = np.where(\n",
    "        df.qtype == 'Edge',\n",
    "        1 - df.extrapolated_value,\n",
    "        df.extrapolated_value\n",
    "    )\n",
    "\n",
    "    return df\n",
    "\n",
    "dev = 'ibm_auckland'\n",
    "df = pd.read_csv(f'zne_results_optim3_zne2_{dev}.csv')\n",
    "df = process(df)\n",
    "fig = plt.figure()\n",
    "ax = fig.gca()\n",
    "plt.xlim(-0.2, 5.2)\n",
    "for i, qtype in enumerate(df.qtype.unique()):\n",
    "    sns.regplot(\n",
    "        ax=ax,\n",
    "        data=df.loc[df.qtype == qtype].groupby('noise_factor').mean(numeric_only=True).reset_index(),\n",
    "        x='noise_factor',\n",
    "        y='obs_value',\n",
    "        color=f'C{i}',\n",
    "        label=qtype,\n",
    "        marker='o',\n",
    "        truncate=False\n",
    "    )\n",
    "plt.xlabel('Noise Factor')\n",
    "plt.xticks(ticks=[0, 1, 2, 3, 4, 5])\n",
    "plt.ylabel(r'$\\langle P_{cc} \\rangle$')\n",
    "plt.legend()\n",
    "plt.show()"
   ]
  },
  {
   "cell_type": "code",
   "execution_count": null,
   "metadata": {},
   "outputs": [],
   "source": []
  }
 ],
 "metadata": {
  "kernelspec": {
   "display_name": "adapt-gym",
   "language": "python",
   "name": "python3"
  },
  "language_info": {
   "codemirror_mode": {
    "name": "ipython",
    "version": 3
   },
   "file_extension": ".py",
   "mimetype": "text/x-python",
   "name": "python",
   "nbconvert_exporter": "python",
   "pygments_lexer": "ipython3",
   "version": "3.10.9"
  },
  "orig_nbformat": 4
 },
 "nbformat": 4,
 "nbformat_minor": 2
}
