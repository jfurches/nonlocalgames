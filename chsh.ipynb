{
 "cells": [
  {
   "attachments": {},
   "cell_type": "markdown",
   "metadata": {},
   "source": [
    "$$\\renewcommand{\\ket}[1]{\\left|{#1}\\right\\rangle}$$\n",
    "$$\\renewcommand{\\bra}[1]{\\left\\langle{#1}\\right|}$$\n",
    "$$\\renewcommand{\\braket}[2]{\\left\\langle{#1}\\middle|{#2}\\right\\rangle}$$\n",
    "$$\\newcommand{\\expect}[1]{\\left\\langle{#1}\\right\\rangle}$$"
   ]
  },
  {
   "cell_type": "code",
   "execution_count": 2,
   "metadata": {},
   "outputs": [],
   "source": [
    "%load_ext autoreload\n",
    "%autoreload 2"
   ]
  },
  {
   "cell_type": "code",
   "execution_count": 3,
   "metadata": {},
   "outputs": [],
   "source": [
    "import itertools\n",
    "from typing import Tuple\n",
    "\n",
    "import numpy as np\n",
    "import scipy\n",
    "from scipy.optimize import minimize\n",
    "import matplotlib.pyplot as plt\n",
    "import seaborn as sns\n",
    "\n",
    "from qiskit import QuantumCircuit, transpile\n",
    "from qiskit.circuit import Parameter\n",
    "from qiskit_aer import StatevectorSimulator, AerSimulator\n",
    "\n",
    "\n",
    "sim = StatevectorSimulator()"
   ]
  },
  {
   "attachments": {},
   "cell_type": "markdown",
   "metadata": {},
   "source": [
    "### Solving CHSH Game with Gradient Descent\n",
    "\n",
    "We start from the bell state $|\\phi^+\\rangle = 1/\\sqrt{2} (|00\\rangle + |11\\rangle)$, which is constructed with `get_bell_state`. Then, the qubits are presumably separated, and Alice and Bob each choose measurement angles $\\alpha$ and $\\beta$ in accordance to their policies $\\pi_a(\\alpha | x), \\pi_b(\\beta | y)$, which they could have coordinated before separation. This is implemented as $R_y$ gates on each qubit in `get_shared_state`.\n",
    "\n",
    "To compute the value of the game, $V^\\pi$ where $\\pi$ is the composite policy/strategy of both Alice and Bob, we iterate over each set of questions $x, y \\in \\{0, 1\\}$. If $x = y = 1$, the probability of them winning is $p(a \\neq b) = |\\langle 01|\\psi\\rangle|^2 + |\\langle 10|\\psi\\rangle|^2$. Otherwise, we measure the probability of $|00\\rangle$ and $|11\\rangle$ instead, since their answers should agree.\n",
    "\n",
    "We assume Alice and Bob each use a deterministic policy, therefore choosing e.g. $\\alpha_0$ if $x = 0$. This leads to a parameterization of $V^\\pi(\\alpha_0, \\alpha_1, \\beta_0, \\beta_1) = V^\\pi(\\mathbf{\\theta})$. We maximize $V$ following the gradient $\\nabla_\\theta V$, and this gives us the highest possible quantum strategy probability."
   ]
  },
  {
   "cell_type": "code",
   "execution_count": 109,
   "metadata": {},
   "outputs": [],
   "source": [
    "def get_bell_circuit() -> QuantumCircuit:\n",
    "    # Construct circuit with 2 qubits and 2 bits\n",
    "    qc = QuantumCircuit(2, 2)\n",
    "\n",
    "    # Hadamard on alice's qubit, then cnot on bob\n",
    "    qc.h(0)\n",
    "    qc.cx(0, 1)\n",
    "\n",
    "    # 1/√2 (|00> + |11>)\n",
    "    return qc\n",
    "\n",
    "def get_shared_state() -> Tuple[QuantumCircuit, Tuple[Parameter, Parameter]]:\n",
    "    qc = get_bell_circuit()\n",
    "    alice = Parameter('α')\n",
    "    bob = Parameter('β')\n",
    "\n",
    "    qc.ry(alice, 0)\n",
    "    qc.ry(bob, 1)\n",
    "\n",
    "    return qc, (alice, bob)\n",
    "\n",
    "def V(x, qc = None, alice = None, bob = None):\n",
    "    a0, a1, b0, b1 = x\n",
    "    v = 0\n",
    "\n",
    "    if qc is None:\n",
    "        qc, (alice, bob) = get_shared_state()\n",
    "\n",
    "    for x, y in itertools.product((0, 1), (0, 1)):\n",
    "        # Perform conditional rotations on alice and bob qubits\n",
    "        bound_qc = qc.bind_parameters({\n",
    "            alice: a0 if x == 0 else a1,\n",
    "            bob: b0 if y == 0 else b1\n",
    "        })\n",
    "\n",
    "        compiled = transpile(bound_qc, sim)\n",
    "        job = sim.run(compiled)\n",
    "        result = job.result()\n",
    "\n",
    "        # Get statevector\n",
    "        state = result.get_statevector(compiled)\n",
    "        prob = np.abs(state) ** 2\n",
    "\n",
    "        if x == 1 and y == 1:\n",
    "            # Check 01 and 10 probability\n",
    "            p = prob[1] + prob[2]\n",
    "        else:\n",
    "            # Check 00 and 11 probability\n",
    "            p = prob[0] + prob[3]\n",
    "        \n",
    "        v += 0.25 * p\n",
    "    \n",
    "    return v"
   ]
  },
  {
   "cell_type": "code",
   "execution_count": 30,
   "metadata": {},
   "outputs": [
    {
     "data": {
      "image/png": "[encoded data removed]",
      "text/plain": [
       "<Figure size 538.128x284.278 with 1 Axes>"
      ]
     },
     "execution_count": 30,
     "metadata": {},
     "output_type": "execute_result"
    }
   ],
   "source": [
    "qc = get_shared_state()[0]\n",
    "qc.measure((0, 1), (0, 1))\n",
    "qc.draw('mpl')"
   ]
  },
  {
   "attachments": {},
   "cell_type": "markdown",
   "metadata": {},
   "source": [
    "There's a local maximum at $\\theta = [0~0~0~0]^T$ corresponding to the classical win rate: since Alice and Bob don't choose different measurement settings based on the questions, their answers always agree by entanglement just like the classical deterministic strategy. This point is a local maximum since slight pertubations around the optimal classical strategy should slightly reduce the frequency their answers agree, leading to a lower win rate.\n",
    "\n",
    "Preparing a Bell state of $|\\psi^\\pm\\rangle = 1/\\sqrt{2}(|01\\rangle \\pm |10\\rangle)$ instead of $|\\phi^\\pm\\rangle$ should have a win rate of 25%, but this should not be a local maximum since any perturbation results in agreeing more often, increasing the win rate."
   ]
  },
  {
   "cell_type": "code",
   "execution_count": 31,
   "metadata": {},
   "outputs": [
    {
     "name": "stdout",
     "output_type": "stream",
     "text": [
      "Success probability: 0.750\n",
      "Angles: [0. 0. 0. 0.]\n"
     ]
    }
   ],
   "source": [
    "res = minimize(lambda x: -V(x), [0, 0, 0, 0])\n",
    "print(f'Success probability: {-res.fun:.3f}')\n",
    "print(f'Angles: {res.x}')"
   ]
  },
  {
   "attachments": {},
   "cell_type": "markdown",
   "metadata": {},
   "source": [
    "A slight pertubation gets us to the optimal quantum win rate"
   ]
  },
  {
   "cell_type": "code",
   "execution_count": 32,
   "metadata": {},
   "outputs": [
    {
     "name": "stdout",
     "output_type": "stream",
     "text": [
      "Success probability: 0.854\n",
      "Angles: [-0.39019672  1.1805998   0.39520273 -1.17559519]\n"
     ]
    }
   ],
   "source": [
    "res = minimize(lambda x: -V(x), [0, 1e-2, 0, 0])\n",
    "print(f'Success probability: {-res.fun:.3f}')\n",
    "print(f'Angles: {res.x}')"
   ]
  },
  {
   "attachments": {},
   "cell_type": "markdown",
   "metadata": {},
   "source": [
    "Constraining $\\alpha_0 = 0$ does not affect our win rate, and it gives us parameters seen before in literature."
   ]
  },
  {
   "cell_type": "code",
   "execution_count": 110,
   "metadata": {},
   "outputs": [
    {
     "name": "stdout",
     "output_type": "stream",
     "text": [
      "Success probability: 0.854\n",
      "Angles: [ 0.          1.57095204  0.78386897 -0.78587638]\n"
     ]
    }
   ],
   "source": [
    "# Repeat constraining a0 = 0 to reproduce the paper\n",
    "cons = [\n",
    "    {'type': 'eq', 'fun': lambda x: x[0]}\n",
    "]\n",
    "res = minimize(lambda x: -V(x), [0, 1e-2, 0, 0], constraints=cons)\n",
    "print(f'Success probability: {-res.fun:.3f}')\n",
    "print(f'Angles: {res.x}')"
   ]
  },
  {
   "attachments": {},
   "cell_type": "markdown",
   "metadata": {},
   "source": [
    "Interestingly, if we also constrain $\\beta_0 = 0$, we can still do better than the classical strategy but create a suboptimal quantum strategy."
   ]
  },
  {
   "cell_type": "code",
   "execution_count": 34,
   "metadata": {},
   "outputs": [
    {
     "name": "stdout",
     "output_type": "stream",
     "text": [
      "Success probability: 0.812\n",
      "Angles: [ 0.          1.04586804  0.         -1.04762646]\n"
     ]
    }
   ],
   "source": [
    "# Can we also constrain Bob (b0 = 0) and still do well?.. better than classical but suboptimal\n",
    "cons = [\n",
    "    {'type': 'eq', 'fun': lambda x: x[0]},\n",
    "    {'type': 'eq', 'fun': lambda x: x[2]},\n",
    "]\n",
    "res = minimize(lambda x: -V(x), [0, 1e-2, 0, 0], constraints=cons)\n",
    "print(f'Success probability: {-res.fun:.3f}')\n",
    "print(f'Angles: {res.x}')"
   ]
  },
  {
   "attachments": {},
   "cell_type": "markdown",
   "metadata": {},
   "source": [
    "### Optimization Landscape\n",
    "\n",
    "An important question is: how pathological is this function to optimize? If the CHSH landscape is complicated, that will make it really difficult to directly optimize future, larger quantum games.\n",
    "\n",
    "In this section, we measure the gradient $\\nabla_\\theta V$ for $\\theta = [0~\\alpha_1~0~\\beta_1]^T$. We constrain both Alice and Bob just like above for the purposes of visualization. The white dot represents the suboptimal quantum strategy."
   ]
  },
  {
   "cell_type": "code",
   "execution_count": 35,
   "metadata": {},
   "outputs": [],
   "source": [
    "N = 26\n",
    "angles = np.linspace(-np.pi, np.pi, N, endpoint=True)\n",
    "data = np.zeros((N, N, 4))\n",
    "h = 1e-6\n",
    "\n",
    "for ai, bi in itertools.product(range(N), range(N)):\n",
    "    a1, b1 = angles[ai], angles[bi]\n",
    "    x = [0, a1, 0, b1]\n",
    "    Vx = V(x)\n",
    "    for ei in range(4):\n",
    "        dx = h * np.array([1 if i == ei else 0 for i in range(4)])\n",
    "        Vxh = V(x + dx)\n",
    "        dV = (Vxh - Vx) / h\n",
    "        data[ai, bi, ei] = dV"
   ]
  },
  {
   "cell_type": "code",
   "execution_count": 36,
   "metadata": {},
   "outputs": [
    {
     "data": {
      "image/png": "[encoded data removed]",
      "text/plain": [
       "<Figure size 640x480 with 2 Axes>"
      ]
     },
     "metadata": {},
     "output_type": "display_data"
    },
    {
     "data": {
      "image/png": "[encoded data removed]",
      "text/plain": [
       "<Figure size 640x480 with 2 Axes>"
      ]
     },
     "metadata": {},
     "output_type": "display_data"
    },
    {
     "data": {
      "image/png": "[encoded data removed]",
      "text/plain": [
       "<Figure size 640x480 with 2 Axes>"
      ]
     },
     "metadata": {},
     "output_type": "display_data"
    },
    {
     "data": {
      "image/png": "[encoded data removed]",
      "text/plain": [
       "<Figure size 640x480 with 2 Axes>"
      ]
     },
     "metadata": {},
     "output_type": "display_data"
    }
   ],
   "source": [
    "varnames = ['\\\\alpha_0', '\\\\alpha_1', '\\\\beta_0', '\\\\beta_1']\n",
    "for i, varname in enumerate(varnames):\n",
    "    sns.heatmap(data[:, :, i], center=0, cmap='icefire')\n",
    "    plt.xticks([0, N // 2, N], ['$-\\pi$', 0, '$\\pi$'], rotation=0)\n",
    "    plt.yticks([0, N // 2, N], ['$-\\pi$', 0, '$\\pi$'], rotation=0)\n",
    "\n",
    "    plt.xlabel('$\\\\alpha_1$')\n",
    "    plt.ylabel('$\\\\beta_1$')\n",
    "\n",
    "    suboptimal = res.x\n",
    "    suboptimal = np.interp(suboptimal, angles, np.arange(N))\n",
    "    plt.plot(suboptimal[1], suboptimal[3], marker='o', color='white')\n",
    "\n",
    "    plt.title(f'$\\\\frac{{\\partial V(0, \\\\alpha_1, 0, \\\\beta_1)}}{{\\\\partial {varname}}}$')\n",
    "    plt.show()"
   ]
  },
  {
   "attachments": {},
   "cell_type": "markdown",
   "metadata": {},
   "source": [
    "We can also look at the convergence plot of the fully unconstrained case, measuring the game value at each algorithm iteration. (As it turns out, you can't receive the gradient in `scipy.optimize` callbacks..)"
   ]
  },
  {
   "cell_type": "code",
   "execution_count": 37,
   "metadata": {},
   "outputs": [
    {
     "data": {
      "image/png": "[encoded data removed]",
      "text/plain": [
       "<Figure size 640x480 with 1 Axes>"
      ]
     },
     "metadata": {},
     "output_type": "display_data"
    }
   ],
   "source": [
    "data = []\n",
    "res = minimize(lambda x: -V(x), [0, 1e-2, 0, 0],\n",
    "               callback=lambda x: data.append(V(x)))\n",
    "\n",
    "plt.plot(range(len(data)), data)\n",
    "plt.xlabel('Optimizer step')\n",
    "plt.ylabel('V($\\\\theta$)')\n",
    "plt.show()"
   ]
  },
  {
   "attachments": {},
   "cell_type": "markdown",
   "metadata": {},
   "source": [
    "### Adapt on CHSH inequality\n",
    "\n",
    "We fix the measurement settings to $\\phi = [\\alpha_0~\\alpha_1~\\beta_0~\\beta_1]^T$, which we can draw a random distribution or try to replicate known results with an initial setting. Then this yields a hamiltonian\n",
    "\n",
    "$$H = -\\sum_{q \\in Q} c_q M(\\phi_q),$$\n",
    "\n",
    "where $q = (q_1, q_2, ...)$ encodes the questions asked of each player, and $Q$ enumerates all possible question combinations. For the case of the CHSH game, this evaluates to\n",
    "\n",
    "$$H = -\\left[M(\\phi_0^a)M(\\phi_0^b) + M(\\phi_1^a)M(\\phi_0^b) + M(\\phi_0^a)M(\\phi_1^b) - M(\\phi_1^a)M(\\phi_1^b)\\right].$$\n",
    "\n",
    "Or using the notation/parameters above with $\\phi_i^a = \\alpha_i$ and $\\phi_i^b = \\beta_i$. Measuring the expectation value $\\expect{H}$ gives the quantum violation of the inequality, with the ground state corresponding to the optimal state."
   ]
  },
  {
   "cell_type": "code",
   "execution_count": 16,
   "metadata": {},
   "outputs": [],
   "source": [
    "from scipy.sparse import csc_matrix\n",
    "from scipy import sparse\n",
    "\n",
    "from adaptgym.hamiltonians import Hamiltonian\n",
    "from adaptgym.pools import PauliPool\n",
    "\n",
    "class CHSHHamiltonian(Hamiltonian):\n",
    "    optimal_params: np.ndarray = np.array([0, -np.pi/4, -np.pi/8, np.pi/8])\n",
    "\n",
    "    def __init__(self, *, initialize_mode: str = 'optimal', **kwargs):\n",
    "        super().__init__(**kwargs)\n",
    "\n",
    "        self.mode = initialize_mode\n",
    "        assert self.mode in ('optimal', 'normal')\n",
    "\n",
    "        self.__pool = PauliPool(lengths=(2,))\n",
    "        self.sp_ham = None\n",
    "        self._params = None\n",
    "    \n",
    "    def init(self, seed: int | None = None):\n",
    "        np_random = np.random.default_rng(seed)\n",
    "\n",
    "        # Initialize pauli pool with 2 qubits\n",
    "        self.__pool.init(qubits=2)\n",
    "        self.__pool.get_operators()\n",
    "        self.__pool.generate_sparse_ops()\n",
    "\n",
    "        self._params = self.optimal_params if self.mode == 'optimal' else \\\n",
    "                        np_random.normal(loc=0, scale=np.pi/4, size=4)  # 95% of values are within [-pi/2, pi/2]\n",
    "        \n",
    "        # Construct the hamiltonian\n",
    "        self.sp_ham = self._generate_hamiltonian()\n",
    "    \n",
    "    @property\n",
    "    def ref_ket(self):\n",
    "        # complex |00> state\n",
    "        ket = csc_matrix(([[1 + 0j, 0, 0, 0]])).transpose()\n",
    "        return ket\n",
    "\n",
    "    def get_n_ops(self):\n",
    "        # Initialize pauli pool with 2 qubits\n",
    "        self.__pool.init(qubits=2)\n",
    "        self.__pool.get_operators()\n",
    "        self.__pool.generate_sparse_ops()\n",
    "\n",
    "        return len(self.__pool)\n",
    "\n",
    "    @property\n",
    "    def params(self):\n",
    "        return self._params\n",
    "    \n",
    "    @params.setter\n",
    "    def params(self, params):\n",
    "        old_params = self._params\n",
    "        self._params = params\n",
    "\n",
    "        # Regenerate the hamiltonian if we changed the parameters\n",
    "        if not all(old_params == params):\n",
    "            self.sp_ham = self._generate_hamiltonian()\n",
    "\n",
    "    def _generate_hamiltonian(self):\n",
    "        Y = np.array([\n",
    "            [0, -1j],\n",
    "            [1j, 0]\n",
    "        ])\n",
    "        Z = np.array([\n",
    "            [1 + 0j, 0],\n",
    "            [0, -1 + 0j]\n",
    "        ])\n",
    "        I = np.eye(2, dtype=complex)\n",
    "\n",
    "        sp_ham = csc_matrix((4, 4), dtype=complex)\n",
    "        for qa, qb in itertools.product((0, 1), repeat=2):\n",
    "            c = -1 if qa + qb == 2 else 1\n",
    "            phia, phib = self._params[qa], self._params[2 + qb]\n",
    "\n",
    "            # Ry gates for each measurement, decompose using the exponential formula\n",
    "            # exp(-itY) = cos(t)I - isin(t)Y\n",
    "            Ma = np.cos(phia) * I - 1j * np.sin(phia) * Y\n",
    "            Mb = np.cos(phib) * I - 1j * np.sin(phib) * Y\n",
    "\n",
    "            M = np.kron(Ma.conj().T @ Z @ Ma, Mb.conj().T @ Z @ Mb)\n",
    "            # Use -= to invert the sign in order to make the smallest eigenvalue have the\n",
    "            # largest inequality violation\n",
    "            sp_ham -= c * M\n",
    "\n",
    "        return sp_ham\n",
    "    \n",
    "    @property\n",
    "    def pool(self):\n",
    "        return self.__pool\n",
    "    \n",
    "    @property\n",
    "    def mat(self):\n",
    "        return self.sp_ham"
   ]
  },
  {
   "cell_type": "code",
   "execution_count": 119,
   "metadata": {},
   "outputs": [
    {
     "name": "stdout",
     "output_type": "stream",
     "text": [
      "{'globals': array([2.], dtype=float32), 'operators': [array([2.828427], dtype=float32), array([2.828427], dtype=float32), array([0.], dtype=float32)]}\n",
      "{'globals': array([1.7763568e-15], dtype=float32), 'operators': [array([-8.964607e-11], dtype=float32), array([-8.964607e-11], dtype=float32), array([0.], dtype=float32)]}\n"
     ]
    },
    {
     "data": {
      "text/plain": [
       "2.82842712474619"
      ]
     },
     "execution_count": 119,
     "metadata": {},
     "output_type": "execute_result"
    }
   ],
   "source": [
    "from adaptgym import AdaptGame\n",
    "\n",
    "H = CHSHHamiltonian(initialize_mode='optimal')\n",
    "H.init()\n",
    "assert np.all(H.sp_ham == H.sp_ham.conj().T)\n",
    "env = AdaptGame(H, features=['grad', 'var'], rewards='penalty')\n",
    "done, trunc = False, False\n",
    "\n",
    "data = []\n",
    "obs, info = env.reset()\n",
    "print(obs)\n",
    "violation = -info['energy']\n",
    "data.append(violation)\n",
    "\n",
    "while not done and not trunc:\n",
    "    # Action 0 is ADAPT\n",
    "    obs, reward, done, trunc, info = env.step(0)\n",
    "    print(obs)\n",
    "\n",
    "    # Get eigenvalue, which is -violation\n",
    "    violation = -info['energy']\n",
    "    data.append(violation)\n",
    "\n",
    "violation"
   ]
  },
  {
   "attachments": {},
   "cell_type": "markdown",
   "metadata": {},
   "source": [
    "Show the convergence plot (should be small)"
   ]
  },
  {
   "cell_type": "code",
   "execution_count": 120,
   "metadata": {},
   "outputs": [
    {
     "data": {
      "image/png": "[encoded data removed]",
      "text/plain": [
       "<Figure size 640x480 with 1 Axes>"
      ]
     },
     "metadata": {},
     "output_type": "display_data"
    }
   ],
   "source": [
    "plt.plot(np.arange(len(data)), data)\n",
    "plt.xlabel('Iteration')\n",
    "plt.ylabel('Inequality Value')\n",
    "plt.show()"
   ]
  },
  {
   "attachments": {},
   "cell_type": "markdown",
   "metadata": {},
   "source": [
    "Draw the circuit"
   ]
  },
  {
   "cell_type": "code",
   "execution_count": 121,
   "metadata": {},
   "outputs": [
    {
     "data": {
      "image/png": "[encoded data removed]",
      "text/plain": [
       "<Figure size 370.906x200.667 with 1 Axes>"
      ]
     },
     "execution_count": 121,
     "metadata": {},
     "output_type": "execute_result"
    }
   ],
   "source": [
    "from adaptgym.util import circuit\n",
    "\n",
    "ansatz = env.ansatz\n",
    "pool = env.pool\n",
    "qc = circuit.to_circuit(ansatz, pool)\n",
    "alice = Parameter('α')\n",
    "bob = Parameter('β')\n",
    "qc.ry(alice, 0)\n",
    "qc.ry(bob, 1)\n",
    "\n",
    "qc.draw('mpl')"
   ]
  },
  {
   "attachments": {},
   "cell_type": "markdown",
   "metadata": {},
   "source": [
    "Check the win rate"
   ]
  },
  {
   "cell_type": "code",
   "execution_count": 53,
   "metadata": {},
   "outputs": [
    {
     "data": {
      "text/plain": [
       "0.8535533905931325"
      ]
     },
     "execution_count": 53,
     "metadata": {},
     "output_type": "execute_result"
    }
   ],
   "source": [
    "V(H.params, qc, alice, bob)"
   ]
  },
  {
   "attachments": {},
   "cell_type": "markdown",
   "metadata": {},
   "source": [
    "### Full RL loop\n",
    "\n",
    "In this section we'll start using Gymnasium, the standard interface for defining RL environments. The objective of the RL agent will be to optimize the parameters $\\theta$ of a fixed state preparation circuit and measurement layer. We'll use the ansatz above, $\\ket{\\psi(\\theta)} = e^{-i\\theta Y_aX_b}\\ket{00}$, which for $\\theta = \\pi/4$ returns the bell state $\\ket{\\phi^+}$.\n",
    "\n",
    "After selecting the state parameter(s) $\\theta$, the agent will then choose the measurement settings $\\phi = [\\alpha_0~\\alpha_1~\\beta_0~\\beta_1]^T$"
   ]
  },
  {
   "cell_type": "code",
   "execution_count": null,
   "metadata": {},
   "outputs": [],
   "source": [
    "import warnings\n",
    "from pprint import pprint\n",
    "\n",
    "import ray\n",
    "from ray.rllib.algorithms.ppo import PPOConfig\n",
    "from ray.tune import register_env\n",
    "from ray.tune.logger import pretty_print\n",
    "\n",
    "# Please shut up qiskit, it's not my fault you're using your own deprecated code.\n",
    "with warnings.catch_warnings():\n",
    "    warnings.filterwarnings('ignore', category=DeprecationWarning)\n",
    "    from chshenv import CHSHEnv\n",
    "\n",
    "try:\n",
    "    ray.init(num_cpus=3)\n",
    "except RuntimeError:\n",
    "    ray.shutdown()\n",
    "    ray.init(num_cpus=3)\n",
    "\n",
    "# Register environment in RLlib/ray tune\n",
    "register_env('CHSHGame', CHSHEnv)\n",
    "\n",
    "algo = (\n",
    "    PPOConfig()\n",
    "        .framework('torch')\n",
    "        .rollouts(num_rollout_workers=2)\n",
    "        .resources(num_gpus=1)\n",
    "        .environment(env='CHSHGame')\n",
    "        .training(gamma=0.99)\n",
    "        .build()\n",
    ")\n",
    "\n",
    "quantum_optimal_winrate = 0.85\n",
    "winrate = 0\n",
    "while winrate < quantum_optimal_winrate:\n",
    "    result = algo.train()\n",
    "    print(f'Iter {result[\"training_iteration\"]} // Reward Mean: {result[\"episode_reward_mean\"] / 5}')"
   ]
  },
  {
   "cell_type": "code",
   "execution_count": 8,
   "metadata": {},
   "outputs": [
    {
     "data": {
      "text/plain": [
       "'chsh_ppo/checkpoint_000303'"
      ]
     },
     "execution_count": 8,
     "metadata": {},
     "output_type": "execute_result"
    }
   ],
   "source": [
    "algo.save('chsh_ppo')"
   ]
  },
  {
   "attachments": {},
   "cell_type": "markdown",
   "metadata": {},
   "source": [
    "### Todo\n",
    " - ~~Do ADAPT on CHSH by using inequality operator as hamiltonian (optimize inequality)~~\n",
    " - ... optimize winning probability numerically (unless analytical derivative exists)\n",
    " - ~~Plot grad. of scipy over iterations~~\n",
    " - Design dense reward of CHSH with small ansatz in RL loop. Measure inequality at each timestep\n",
    " - Move on to $N$-partite game (ADAPT, RL loop (fixed ansatz), grad descent (fixed ansatz))\n",
    "\n",
    " - Implement dual-phase optimization\n",
    " - RL with a different starting state"
   ]
  },
  {
   "cell_type": "code",
   "execution_count": 6,
   "metadata": {},
   "outputs": [
    {
     "name": "stdout",
     "output_type": "stream",
     "text": [
      "q = (0, 0), a = (0, 0)\n",
      "w_qa = 1.0\n",
      "q = (0, 0), a = (0, 1)\n",
      "w_qa = -1.0\n",
      "q = (0, 0), a = (1, 0)\n",
      "w_qa = -1.0\n",
      "q = (0, 0), a = (1, 1)\n",
      "w_qa = 1.0\n",
      "P = [[ 1.+0.j  0.+0.j  0.+0.j  0.+0.j]\n",
      " [ 0.+0.j -1.+0.j  0.+0.j  0.+0.j]\n",
      " [ 0.+0.j  0.+0.j -1.+0.j  0.+0.j]\n",
      " [ 0.+0.j  0.+0.j  0.+0.j  1.+0.j]]\n",
      "q = (0, 1), a = (0, 0)\n",
      "w_qa = 1.0\n",
      "q = (0, 1), a = (0, 1)\n",
      "w_qa = -1.0\n",
      "q = (0, 1), a = (1, 0)\n",
      "w_qa = -1.0\n",
      "q = (0, 1), a = (1, 1)\n",
      "w_qa = 1.0\n",
      "P = [[ 1.+0.j  0.+0.j  0.+0.j  0.+0.j]\n",
      " [ 0.+0.j -1.+0.j  0.+0.j  0.+0.j]\n",
      " [ 0.+0.j  0.+0.j -1.+0.j  0.+0.j]\n",
      " [ 0.+0.j  0.+0.j  0.+0.j  1.+0.j]]\n",
      "q = (1, 0), a = (0, 0)\n",
      "w_qa = 1.0\n",
      "q = (1, 0), a = (0, 1)\n",
      "w_qa = -1.0\n",
      "q = (1, 0), a = (1, 0)\n",
      "w_qa = -1.0\n",
      "q = (1, 0), a = (1, 1)\n",
      "w_qa = 1.0\n",
      "P = [[ 1.+0.j  0.+0.j  0.+0.j  0.+0.j]\n",
      " [ 0.+0.j -1.+0.j  0.+0.j  0.+0.j]\n",
      " [ 0.+0.j  0.+0.j -1.+0.j  0.+0.j]\n",
      " [ 0.+0.j  0.+0.j  0.+0.j  1.+0.j]]\n",
      "q = (1, 1), a = (0, 0)\n",
      "w_qa = -1.0\n",
      "q = (1, 1), a = (0, 1)\n",
      "w_qa = 1.0\n",
      "q = (1, 1), a = (1, 0)\n",
      "w_qa = 1.0\n",
      "q = (1, 1), a = (1, 1)\n",
      "w_qa = -1.0\n",
      "P = [[-1.+0.j  0.+0.j  0.+0.j  0.+0.j]\n",
      " [ 0.+0.j  1.+0.j  0.+0.j  0.+0.j]\n",
      " [ 0.+0.j  0.+0.j  1.+0.j  0.+0.j]\n",
      " [ 0.+0.j  0.+0.j  0.+0.j -1.+0.j]]\n"
     ]
    },
    {
     "data": {
      "text/plain": [
       "array([[ 1.41495559+0.j, -0.00164029+0.j, -0.00141871+0.j,\n",
       "        -1.41346949+0.j],\n",
       "       [-0.00164029+0.j, -1.41495559+0.j, -1.41346949+0.j,\n",
       "         0.00141871+0.j],\n",
       "       [-0.00141871+0.j, -1.41346949+0.j, -1.41495559+0.j,\n",
       "         0.00164029+0.j],\n",
       "       [-1.41346949+0.j,  0.00141871+0.j,  0.00164029+0.j,\n",
       "         1.41495559+0.j]])"
      ]
     },
     "execution_count": 6,
     "metadata": {},
     "output_type": "execute_result"
    }
   ],
   "source": [
    "from scipy import linalg\n",
    "\n",
    "tobin = lambda a: int(''.join(map(str, a)), base=2)\n",
    "\n",
    "Y = np.array([\n",
    "    [0, -1.0j],\n",
    "    [1.0j, 0]\n",
    "])\n",
    "U = lambda phi: np.kron(linalg.expm(-1j * phi[0] * Y), linalg.expm(-1j * phi[1] * Y))\n",
    "\n",
    "# Optimal parameters from before\n",
    "phi = np.array([0, 1.57095204, -0.78386897, 0.78587638]).reshape(2, 2)\n",
    "v = lambda a, q: float(a[0] != a[1]) if q == (1, 1) else float(a[0] == a[1])\n",
    "\n",
    "H = np.zeros((4, 4), dtype=complex)\n",
    "for q in itertools.product((0, 1), repeat=2):\n",
    "    p_q = 1\n",
    "\n",
    "    phi_q = [phi[i,qi] for i, qi in zip(range(len(q)), q)]\n",
    "    u_q = U(phi_q)\n",
    "\n",
    "    P = np.zeros_like(H)\n",
    "    for a in itertools.product((0, 1), repeat=2):\n",
    "        print(f'q = {q}, a = {a}')\n",
    "        w_qa = p_q * (2 * v(a, q) - 1)\n",
    "        print(f'w_qa = {w_qa}')\n",
    "        a_vec = np.zeros(4, dtype=complex)\n",
    "        a_vec[tobin(a)] = 1\n",
    "        P += w_qa * np.outer(a_vec, a_vec)\n",
    "    \n",
    "    print(f'P = {P}')\n",
    "    term = P @ u_q\n",
    "    H += term\n",
    "\n",
    "H"
   ]
  },
  {
   "cell_type": "code",
   "execution_count": 7,
   "metadata": {},
   "outputs": [
    {
     "name": "stdout",
     "output_type": "stream",
     "text": [
      "(2.8284267256555493+0j) [ 7.07106678e-01+0.j -3.82375288e-04-0.j -3.82375288e-04-0.j\n",
      " -7.07106678e-01-0.j]\n",
      "(-2.8284267256555515+0j) [ 3.82375288e-04+0.j  7.07106678e-01+0.j  7.07106678e-01+0.j\n",
      " -3.82375288e-04+0.j]\n",
      "(0.0015025303394905658+0j) [ 0.70517118+0.j -0.05228388+0.j  0.05228388+0.j  0.70517118+0.j]\n",
      "(-0.001502530339490823+0j) [-0.05228388+0.j -0.70517118+0.j  0.70517118+0.j -0.05228388+0.j]\n"
     ]
    }
   ],
   "source": [
    "W, v = np.linalg.eig(H)\n",
    "for w, vi in zip(W, v.T):\n",
    "    print(w, vi)"
   ]
  },
  {
   "cell_type": "code",
   "execution_count": 93,
   "metadata": {},
   "outputs": [
    {
     "data": {
      "text/plain": [
       "(2.8284267256555506+0j)"
      ]
     },
     "execution_count": 93,
     "metadata": {},
     "output_type": "execute_result"
    }
   ],
   "source": [
    "state = ((1 / np.sqrt(2)) * np.array([1, 0, 0, 1]))\n",
    "state = v[:, 0]\n",
    "rho = np.outer(state, state.conj())\n",
    "np.trace(rho @ H)"
   ]
  },
  {
   "cell_type": "markdown",
   "metadata": {},
   "source": [
    "### Dual Phase Optimization"
   ]
  },
  {
   "cell_type": "code",
   "execution_count": 30,
   "metadata": {},
   "outputs": [],
   "source": [
    "from scipy.optimize import minimize\n",
    "\n",
    "from adaptgym import AdaptGame\n",
    "\n",
    "def dual_phase_optim():\n",
    "    # Starting hamiltonian, random measurement parameters\n",
    "    ham = CHSHHamiltonian(initialize_mode='normal')\n",
    "    phi = None\n",
    "\n",
    "    ineq_value = -np.inf\n",
    "    new_ineq_value = 0\n",
    "    iter_ = 1\n",
    "    while np.abs(new_ineq_value - ineq_value) > 1e-3:\n",
    "        ineq_value = new_ineq_value\n",
    "\n",
    "        print(f'Iter {iter_}\\n-----------')\n",
    "        # Phase 1: Create optimal shared state for measurement params\n",
    "        # using ADAPT\n",
    "        env = AdaptGame(ham, pruning=1)\n",
    "        done = False\n",
    "        env.reset()\n",
    "\n",
    "        phi = ham.params if phi is None else phi\n",
    "        ham.params = phi\n",
    "        env.ansatz.H = ham.sp_ham\n",
    "        print('Starting phi:', phi)\n",
    "        print('Generating state with ADAPT')\n",
    "        while not done:\n",
    "            _, _, done, *_ = env.step(0)\n",
    "        \n",
    "        shared_state = env.ansatz\n",
    "        theta = shared_state.curr_params\n",
    "        ket = env.ansatz.prepare_state(theta)\n",
    "        print('Theta:', theta)\n",
    "        print('Gates:', [ham.pool.get_operators()[i] for i in shared_state.pool_idx])\n",
    "\n",
    "        print('Optimizing phi')\n",
    "        # Phase 2: Optimize phi using ADAPT ansatz\n",
    "        def get_energy(phi):\n",
    "            ham.params = phi\n",
    "            shared_state.H = ham.sp_ham\n",
    "            return shared_state.energy()\n",
    "        \n",
    "        # Minimize phi while fixing phi_a0 to 0\n",
    "        res = minimize(get_energy, x0=phi, constraints=({'type': 'eq', 'fun': lambda x: x[0]},))\n",
    "        phi = res.x\n",
    "        new_ineq_value = res.fun\n",
    "\n",
    "        print('New phi:', phi)\n",
    "        print('Ineq value:', new_ineq_value)\n",
    "        print()\n",
    "        iter_ += 1"
   ]
  },
  {
   "cell_type": "code",
   "execution_count": 31,
   "metadata": {},
   "outputs": [
    {
     "name": "stdout",
     "output_type": "stream",
     "text": [
      "Iter 1\n",
      "-----------\n",
      "Starting phi: [-0.30196665  0.79518275  0.50279899 -0.31690751]\n",
      "Generating state with ADAPT\n",
      "Theta: [-0.7853981634132957]\n",
      "Gates: [1j [Y0 X1]]\n",
      "Optimizing phi\n",
      "New phi: [ 0.          0.78543428  0.39271127 -0.39270301]\n",
      "Ineq value: -2.828427121435532\n",
      "\n",
      "Iter 2\n",
      "-----------\n",
      "Starting phi: [ 0.          0.78543428  0.39271127 -0.39270301]\n",
      "Generating state with ADAPT\n",
      "Theta: [-0.7853981634132958]\n",
      "Gates: [1j [Y0 X1]]\n",
      "Optimizing phi\n",
      "New phi: [ 0.          0.78543428  0.39271127 -0.39270301]\n",
      "Ineq value: -2.828427121435532\n",
      "\n"
     ]
    }
   ],
   "source": [
    "import warnings\n",
    "\n",
    "with warnings.catch_warnings():\n",
    "    warnings.filterwarnings(action='ignore', category=UserWarning)\n",
    "    dual_phase_optim()"
   ]
  },
  {
   "cell_type": "code",
   "execution_count": null,
   "metadata": {},
   "outputs": [],
   "source": []
  }
 ],
 "metadata": {
  "kernelspec": {
   "display_name": "bellgames",
   "language": "python",
   "name": "python3"
  },
  "language_info": {
   "codemirror_mode": {
    "name": "ipython",
    "version": 3
   },
   "file_extension": ".py",
   "mimetype": "text/x-python",
   "name": "python",
   "nbconvert_exporter": "python",
   "pygments_lexer": "ipython3",
   "version": "3.10.9"
  },
  "orig_nbformat": 4
 },
 "nbformat": 4,
 "nbformat_minor": 2
}
