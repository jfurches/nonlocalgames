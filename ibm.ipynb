{
 "cells": [
  {
   "cell_type": "code",
   "execution_count": 9,
   "metadata": {},
   "outputs": [],
   "source": [
    "from qiskit_ibm_provider import IBMProvider\n",
    "from qiskit.providers import JobStatus\n",
    "\n",
    "provider = IBMProvider(name='full')"
   ]
  },
  {
   "cell_type": "code",
   "execution_count": 3,
   "metadata": {},
   "outputs": [
    {
     "name": "stderr",
     "output_type": "stream",
     "text": [
      "2023-09-06 13:11:00,682\tWARNING deprecation.py:50 -- DeprecationWarning: `DirectStepOptimizer` has been deprecated. This will raise an error in the future!\n"
     ]
    },
    {
     "name": "stdout",
     "output_type": "stream",
     "text": [
      "Loaded account full\n"
     ]
    },
    {
     "name": "stderr",
     "output_type": "stream",
     "text": [
      "  0%|          | 0/15 [00:00<?, ?it/s]/home/jim/miniconda3/envs/adapt-gym/lib/python3.10/site-packages/qiskit_ibm_provider/ibm_backend.py:463: UserWarning: The backend ibm_sherbrooke is currently paused.\n",
      "  warnings.warn(f\"The backend {self.name} is currently paused.\")\n"
     ]
    },
    {
     "name": "stdout",
     "output_type": "stream",
     "text": [
      "Submitted job cjsb5jik1qvd8tcm9kt0 to ibmq_jakarta\n",
      "Submitted job cjsb5jmiel5ovfdojlqg to ibm_hanoi\n",
      "Submitted job cjsb5jkiifjafcoacbb0 to ibmq_guadalupe\n",
      "Submitted job cjsb5j8cal0hh8jges00 to ibm_perth\n",
      "Submitted job cjsb5k7toe8ecf8p5lr0 to ibm_auckland\n",
      "Submitted job cjsb5kciifjafcoacbv0 to ibmq_quito\n",
      "Submitted job cjsb5kmiel5ovfdojmn0 to ibm_sherbrooke\n",
      "Submitted job cjsb5lnp8blo0km91iog to ibm_cairo\n",
      "Submitted job cjsb5lak1qvd8tcm9mh0 to ibmq_belem\n",
      "Submitted job cjsb5leiel5ovfdojnh0 to ibmq_kolkata\n",
      "Submitted job cjsb5mftoe8ecf8p5o10 to ibmq_mumbai\n",
      "Submitted job cjsb5mocal0hh8jgeut0 to ibm_lagos\n",
      "Submitted job cjsb5mvtoe8ecf8p5ob0 to ibmq_lima\n",
      "Submitted job cjsb5mmiel5ovfdojoj0 to ibmq_manila\n",
      "Submitted job cjsb5nnp8blo0km91kg0 to ibm_nairobi\n"
     ]
    }
   ],
   "source": [
    "%%bash\n",
    "\n",
    "python examples/g14_on_ibm/run_ibm.py \\\n",
    "    --account=full \\\n",
    "    --shots=1024 \\\n",
    "    --circuit=data/g14_constrained_u3ry/g14_state.json"
   ]
  }
 ],
 "metadata": {
  "kernelspec": {
   "display_name": "adapt-gym",
   "language": "python",
   "name": "python3"
  },
  "language_info": {
   "codemirror_mode": {
    "name": "ipython",
    "version": 3
   },
   "file_extension": ".py",
   "mimetype": "text/x-python",
   "name": "python",
   "nbconvert_exporter": "python",
   "pygments_lexer": "ipython3",
   "version": "3.10.9"
  },
  "orig_nbformat": 4
 },
 "nbformat": 4,
 "nbformat_minor": 2
}
