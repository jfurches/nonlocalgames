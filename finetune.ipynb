{
 "cells": [
  {
   "cell_type": "code",
   "execution_count": 12,
   "metadata": {},
   "outputs": [
    {
     "name": "stdout",
     "output_type": "stream",
     "text": [
      "The autoreload extension is already loaded. To reload it, use:\n",
      "  %reload_ext autoreload\n"
     ]
    }
   ],
   "source": [
    "%load_ext autoreload\n",
    "%autoreload 2"
   ]
  },
  {
   "cell_type": "code",
   "execution_count": 13,
   "metadata": {},
   "outputs": [],
   "source": [
    "import json\n",
    "\n",
    "import numpy as np\n",
    "from scipy.sparse import linalg\n",
    "from scipy.optimize import basinhopping\n",
    "\n",
    "from nonlocalgames.hamiltonians import G14"
   ]
  },
  {
   "cell_type": "code",
   "execution_count": 14,
   "metadata": {},
   "outputs": [
    {
     "data": {
      "text/plain": [
       "-0.9921225140521767"
      ]
     },
     "execution_count": 14,
     "metadata": {},
     "output_type": "execute_result"
    }
   ],
   "source": [
    "with open('data/g14_constrained/g14_state.json', 'r', encoding='utf-8') as f:\n",
    "    data = json.load(f)\n",
    "    phi = np.array(data['phi'])\n",
    "\n",
    "gs_energy = lambda h: linalg.eigsh(h, k=1, which='SA')[0].item().real\n",
    "\n",
    "ham = G14(ham_type='nonviolation')\n",
    "ham.params = phi\n",
    "\n",
    "gs_energy(ham.mat)"
   ]
  },
  {
   "cell_type": "code",
   "execution_count": 15,
   "metadata": {},
   "outputs": [
    {
     "name": "stdout",
     "output_type": "stream",
     "text": [
      "basinhopping step 0: f -0.992123\n",
      "basinhopping step 1: f -0.992122 trial_f -0.992122 accepted 1  lowest_f -0.992123\n",
      "basinhopping step 2: f -0.992122 trial_f -0.992122 accepted 1  lowest_f -0.992123\n",
      "basinhopping step 3: f -0.992122 trial_f -0.992122 accepted 1  lowest_f -0.992123\n",
      "basinhopping step 4: f -0.992123 trial_f -0.992123 accepted 1  lowest_f -0.992123\n",
      "basinhopping step 5: f -0.992123 trial_f -0.992123 accepted 1  lowest_f -0.992123\n"
     ]
    }
   ],
   "source": [
    "def f(dphi):\n",
    "    ham.params = phi + dphi.reshape(phi.shape)\n",
    "    return gs_energy(ham.mat)\n",
    "\n",
    "basinhopping(f, np.zeros_like(phi).ravel(), niter=1000, disp=True, stepsize=np.pi)"
   ]
  },
  {
   "cell_type": "code",
   "execution_count": null,
   "metadata": {},
   "outputs": [],
   "source": []
  }
 ],
 "metadata": {
  "kernelspec": {
   "display_name": "adapt-gym",
   "language": "python",
   "name": "python3"
  },
  "language_info": {
   "codemirror_mode": {
    "name": "ipython",
    "version": 3
   },
   "file_extension": ".py",
   "mimetype": "text/x-python",
   "name": "python",
   "nbconvert_exporter": "python",
   "pygments_lexer": "ipython3",
   "version": "3.10.9"
  },
  "orig_nbformat": 4
 },
 "nbformat": 4,
 "nbformat_minor": 2
}
